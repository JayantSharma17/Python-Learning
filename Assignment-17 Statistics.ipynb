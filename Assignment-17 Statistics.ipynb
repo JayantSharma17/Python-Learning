{
 "cells": [
  {
   "cell_type": "markdown",
   "id": "67f8960f-e70e-4748-9003-58fb130016ab",
   "metadata": {},
   "source": [
    "Q1. What is Statistics?"
   ]
  },
  {
   "cell_type": "markdown",
   "id": "8129c85a-936d-4525-bd4b-9ab51e269bb2",
   "metadata": {},
   "source": [
    "Ans. Statistics is the science of collecting, organising and analyzing data.\n",
    "Data: \"Facts or pieces of information\"\n",
    "for eg: Height of students\n",
    "[175,165,155,142,175,178]"
   ]
  },
  {
   "cell_type": "markdown",
   "id": "c4842467-2a28-4cb0-8d43-7f1bcec5dbb5",
   "metadata": {},
   "source": [
    "Q2. Define the different types of statistics and give an example of when each type might be used."
   ]
  },
  {
   "cell_type": "markdown",
   "id": "76c30ce3-4357-4308-a6c4-1a457ea198d5",
   "metadata": {},
   "source": [
    "Ans. There are two main types of statistics: descriptive statistics and inferential statistics.\n",
    "\n",
    "Descriptive statistics: \n",
    "Descriptive statistics uses data that provides a description of the population either through numerical calculation or graph or table. It provides a graphical summary of data. It is simply used for summarizing objects, etc. \n",
    "Eg: Measure of Central Tendency(Mean, median, mode).\n",
    "    Measure of Dispersion(Variance, std)\n",
    "    Different types of distribution of data(Histogram, pdf, etc)\n",
    "\n",
    "Inferential statistics:\n",
    "Inferential statistics involve making inferences or predictions about a population based on a sample of data. It allows researchers to draw conclusions beyond the immediate data they have collected. \n",
    "Eg: Z-test\n",
    "    t-test"
   ]
  },
  {
   "cell_type": "markdown",
   "id": "3bd10584-75f2-45a6-8e6d-57c36aa2362c",
   "metadata": {},
   "source": [
    "Q3. What are the different types of data and how do they differ from each other? Provide an example of\n",
    "each type of data."
   ]
  },
  {
   "cell_type": "markdown",
   "id": "e01ce3f5-9f64-4225-a01f-ffda070d226f",
   "metadata": {},
   "source": [
    "Ans. In statistics, there are four main types of data: nominal, ordinal, interval, and ratio.\n",
    "\n",
    "Nominal Data:\n",
    "Nominal data is a type of data that consists of categories or names that cannot be ordered or ranked. Nominal data is often used to categorize observations into groups, and the groups are not comparable.\n",
    "Eg: gender (male/female), race (White/Black/Asian)\n",
    "\n",
    "Ordinal Data:\n",
    "Ordinal data is a type of data that consists of categories that can be ordered or ranked. However, the distance between categories is not necessarily equal.\n",
    "Eg: education level (elementary/middle/high school/college), job position (manager/supervisor/employee)\n",
    "\n",
    "Interval Data:\n",
    "Interval data is a type of data that consists of numerical values where the distance between each value is equal. However, there is no true zero point. Interval data is often used to measure attributes such as temperature, dates, and time.\n",
    "Eg: temperature (Celsius/Fahrenheit), dates (days/months/years)\n",
    "\n",
    "Ratio Data:\n",
    "Ratio data is a type of data that has a true zero point and an equal distance between each value. Ratio data is considered the most informative type of data because it can be used to make meaningful comparisons and calculations.\n",
    "Eg: height (inches/centimeters), weight (pounds/kilograms), income (dollars), and distance (miles/kilometers)\n"
   ]
  },
  {
   "cell_type": "markdown",
   "id": "cc336e86-51c1-4cba-91c9-6993ecf84ca3",
   "metadata": {},
   "source": [
    "Q4. Categorise the following datasets with respect to quantitative and qualitative data types:\n",
    "(i) Grading in exam: A+, A, B+, B, C+, C, D, E\n",
    "(ii) Colour of mangoes: yellow, green, orange, red\n",
    "(iii) Height data of a class: [178.9, 179, 179.5, 176, 177.2, 178.3, 175.8,...]\n",
    "(iv) Number of mangoes exported by a farm: [500, 600, 478, 672, ...]"
   ]
  },
  {
   "cell_type": "markdown",
   "id": "1b8250a7-73c6-44f1-ab44-240e62511a2e",
   "metadata": {},
   "source": [
    "Ans. (i) Grading in exam: Qualitative data\n",
    "     (ii) Colour of mangoes: Qualitative data\n",
    "     (iii) Height data of a class: Quantitative data\n",
    "     (iv) Number of mangoes exported by a farm: Quantitative data\n",
    "     "
   ]
  },
  {
   "cell_type": "markdown",
   "id": "ea68959c-55c4-4c99-96eb-dee614d875e3",
   "metadata": {},
   "source": [
    "Q5. Explain the concept of levels of measurement and give an example of a variable for each level."
   ]
  },
  {
   "cell_type": "markdown",
   "id": "112bba29-7964-45c3-9f7a-e08a8a72c2e8",
   "metadata": {},
   "source": [
    "Ans. Levels of measurement, also called scales of measurement, tell you how precisely variables are recorded. In scientific research, a variable is anything that can take on different values across your data set (e.g., height or test scores).\n",
    "\n",
    "There are 4 levels of measurement:\n",
    "\n",
    "Nominal: the data can only be categorized\n",
    "Ordinal: the data can be categorized and ranked\n",
    "Interval: the data can be categorized, ranked, and evenly spaced\n",
    "Ratio: the data can be categorized, ranked, evenly spaced, and has a natural zero.\n"
   ]
  },
  {
   "cell_type": "markdown",
   "id": "c3bc4779-d53e-4417-983a-2c87c339f876",
   "metadata": {},
   "source": [
    "Q6. Why is it important to understand the level of measurement when analyzing data? Provide an\n",
    "example to illustrate your answer."
   ]
  },
  {
   "cell_type": "markdown",
   "id": "a2927b9a-063f-4a0e-b35a-4d5dda7ffefb",
   "metadata": {},
   "source": [
    "Understanding the level of measurement is important when analyzing data because it determines the appropriate statistical methods and operations that can be applied. Different levels (nominal, ordinal, interval, ratio) have specific properties and limitations. Failing to consider the correct level can lead to incorrect conclusions and misinterpretations of the data.\n",
    "\n",
    "For example, if we mistakenly treat ordinal data (like grades) as if they were interval/ratio data, we might attempt to calculate the average, which is not meaningful. On the other hand, for interval/ratio data (like heights), we can accurately calculate the average. Understanding the level of measurement helps ensure proper analysis and meaningful conclusions.\n"
   ]
  },
  {
   "cell_type": "markdown",
   "id": "49a58c65-f06a-4f3f-891a-76c3038549d0",
   "metadata": {},
   "source": [
    "Q7. How nominal data type is different from ordinal data type."
   ]
  },
  {
   "cell_type": "markdown",
   "id": "cad05ee6-4c34-4657-bf6a-c3bcceaae836",
   "metadata": {},
   "source": [
    "The main difference between nominal and ordinal data is in the organization of categories:\n",
    "\n",
    "Nominal Data: Categories represent distinct groups with no inherent order or ranking. Examples: eye colors, car types.\n",
    "\n",
    "Ordinal Data: Categories have a specific order or ranking, but differences between categories are not uniformly quantifiable. Examples: educational attainment levels, customer satisfaction levels.\n",
    "\n",
    "In summary, nominal data have no order, while ordinal data have an inherent order or ranking.\n"
   ]
  },
  {
   "cell_type": "markdown",
   "id": "46b21146-476d-470e-a20a-6e1adf0ab037",
   "metadata": {},
   "source": [
    "Q8. Which type of plot can be used to display data in terms of range?"
   ]
  },
  {
   "cell_type": "markdown",
   "id": "3344b358-f3ce-41c1-b8df-81cdcc133529",
   "metadata": {},
   "source": [
    "Ans. Histogram. If the groups depicted in a bar chart are actually continuous numeric ranges, we can push the bars together to generate a histogram. Bar lengths in histograms typically correspond to counts of data points, and their patterns demonstrate the distribution of variables in your data.\n"
   ]
  },
  {
   "cell_type": "markdown",
   "id": "c19292ab-85d0-4964-9463-c3ee1c0932e6",
   "metadata": {},
   "source": [
    "Q9. Describe the difference between descriptive and inferential statistics. Give an example of each\n",
    "type of statistics and explain how they are used."
   ]
  },
  {
   "cell_type": "markdown",
   "id": "da3ca640-8bec-49c3-981d-890c58b53f4e",
   "metadata": {},
   "source": [
    "\n",
    "Ans. Descriptive Statistics summarize and describe data (e.g., mean, median, standard deviation). They help understand patterns and characteristics within a dataset.\n",
    "\n",
    "Example: Calculating average test scores in a class.\n",
    "\n",
    "Use: Clear communication and insights within the dataset.\n",
    "\n",
    "Inferential Statistics draw conclusions or predictions about a larger population from a sample (e.g., hypothesis testing, confidence intervals).\n",
    "\n",
    "Example: Determining if a new teaching method improves student performance based on a sample.\n",
    "\n",
    "Use: Making predictions and decisions beyond the immediate data, often in research and decision-making.\n"
   ]
  },
  {
   "cell_type": "markdown",
   "id": "32881861-ddae-489c-9085-e0d57591d112",
   "metadata": {},
   "source": [
    "Q10. What are some common measures of central tendency and variability used in statistics? Explain\n",
    "how each measure can be used to describe a dataset."
   ]
  },
  {
   "cell_type": "markdown",
   "id": "57844ec5-c2b2-4540-8164-c85d8e2d2844",
   "metadata": {},
   "source": [
    "Ans. Measures of Central Tendency:\n",
    "\n",
    "Mean: Average value. Sensitive to outliers.\n",
    "Median: Middle value. Less affected by outliers.\n",
    "Mode: Most frequent value. Useful for categorical data.\n",
    "Measures of Variability:\n",
    "\n",
    "Range: Difference between max and min values. Sensitive to outliers.\n",
    "Variance: Average squared difference from mean. Measures overall spread.\n",
    "Standard Deviation: Square root of variance. Indicates typical variability.\n",
    "Interquartile Range (IQR): Range between 25th and 75th percentiles. Resistant to outliers.\n",
    "These measures help describe the center, spread, and characteristics of a dataset."
   ]
  }
 ],
 "metadata": {
  "kernelspec": {
   "display_name": "Python 3 (ipykernel)",
   "language": "python",
   "name": "python3"
  },
  "language_info": {
   "codemirror_mode": {
    "name": "ipython",
    "version": 3
   },
   "file_extension": ".py",
   "mimetype": "text/x-python",
   "name": "python",
   "nbconvert_exporter": "python",
   "pygments_lexer": "ipython3",
   "version": "3.10.8"
  }
 },
 "nbformat": 4,
 "nbformat_minor": 5
}
