{
  "nbformat": 4,
  "nbformat_minor": 0,
  "metadata": {
    "colab": {
      "provenance": []
    },
    "kernelspec": {
      "name": "python3",
      "display_name": "Python 3"
    },
    "language_info": {
      "name": "python"
    }
  },
  "cells": [
    {
      "cell_type": "markdown",
      "source": [
        "Q1. How do you comment code in Python? What are the different types of comments?"
      ],
      "metadata": {
        "id": "5rtEhyW-lAd5"
      }
    },
    {
      "cell_type": "code",
      "execution_count": null,
      "metadata": {
        "id": "JPgH4tOLk9qV"
      },
      "outputs": [],
      "source": [
        "# We can comment using the # character in Python easily.\n",
        "\n",
        "# There are 2 types of comments in Python.\n",
        "# Single Line Comment - using the # character.\n",
        "# Multi Line Comment - using the \"\"\"character\"\"\"."
      ]
    },
    {
      "cell_type": "markdown",
      "source": [
        "Q2. What are variables in Python? How do you declare and assign values to variables?"
      ],
      "metadata": {
        "id": "IO7F9zT6lD32"
      }
    },
    {
      "cell_type": "code",
      "source": [
        "# Variables in Python are the names you give to computer memory locations which are used to store values in a python program\n",
        "\n",
        "# We can declare and assign values to variables in this way:\n",
        "str = \"pwskills\""
      ],
      "metadata": {
        "id": "6prbmjrZlKpP"
      },
      "execution_count": null,
      "outputs": []
    },
    {
      "cell_type": "markdown",
      "source": [
        "Q3. How do you convert one data type to another in Python?"
      ],
      "metadata": {
        "id": "l9OHJDXKlIxE"
      }
    },
    {
      "cell_type": "code",
      "source": [
        "# We can convert one data type to another through type casting.\n",
        "a=78 \n",
        "a=float(a) # int convert in to float\n",
        "print(type(a))"
      ],
      "metadata": {
        "colab": {
          "base_uri": "https://localhost:8080/"
        },
        "id": "Q6czMFfElQJO",
        "outputId": "dc6fb885-5a02-4d42-df07-17a70fae95de"
      },
      "execution_count": 11,
      "outputs": [
        {
          "output_type": "stream",
          "name": "stdout",
          "text": [
            "<class 'float'>\n"
          ]
        }
      ]
    },
    {
      "cell_type": "markdown",
      "source": [
        "Q4. How do you write and execute a Python script from the command line?"
      ],
      "metadata": {
        "id": "ZA7qIH_7lQoP"
      }
    },
    {
      "cell_type": "code",
      "source": [
        "# open a command line and type the word python followed by the path to your script file like this: python first_script.py Hello World!"
      ],
      "metadata": {
        "id": "IKAu1AXDlTQL"
      },
      "execution_count": null,
      "outputs": []
    },
    {
      "cell_type": "markdown",
      "source": [
        "Q5. Given a list my_list = [1, 2, 3, 4, 5], write the code to slice the list and obtain the sub-list [2, 3]."
      ],
      "metadata": {
        "id": "XDGUVRDmlThZ"
      }
    },
    {
      "cell_type": "code",
      "source": [
        "my_list = [1, 2, 3, 4, 5]\n",
        "my_list[1:3]"
      ],
      "metadata": {
        "colab": {
          "base_uri": "https://localhost:8080/"
        },
        "id": "ivC71pP4lWfN",
        "outputId": "84909a63-c400-4785-d3ed-ead3dc4207b4"
      },
      "execution_count": 2,
      "outputs": [
        {
          "output_type": "execute_result",
          "data": {
            "text/plain": [
              "[2, 3]"
            ]
          },
          "metadata": {},
          "execution_count": 2
        }
      ]
    },
    {
      "cell_type": "markdown",
      "source": [
        "Q6. What is a complex number in mathematics, and how is it represented in Python?"
      ],
      "metadata": {
        "id": "K431GqrwlWtl"
      }
    },
    {
      "cell_type": "code",
      "source": [
        "# complex number - A complex number is a number of the form a + bi, where a is a real part and b is imaginary.\n",
        "\n",
        "# In Python complex number is represented as a + bj, where a is a real part and b is imaginary."
      ],
      "metadata": {
        "id": "7GIT3MDzlZ-e"
      },
      "execution_count": null,
      "outputs": []
    },
    {
      "cell_type": "markdown",
      "source": [
        "Q7. What is the correct way to declare a variable named age and assign the value 25 to it?"
      ],
      "metadata": {
        "id": "WN67PYtdlaPf"
      }
    },
    {
      "cell_type": "code",
      "source": [
        "age=25"
      ],
      "metadata": {
        "id": "SN7dXKANlc2h"
      },
      "execution_count": 9,
      "outputs": []
    },
    {
      "cell_type": "markdown",
      "source": [
        "Q8. Declare a variable named price and assign the value 9.99 to it. What data type does this variable\n",
        "belong to?"
      ],
      "metadata": {
        "id": "tiHpocGSldH4"
      }
    },
    {
      "cell_type": "code",
      "source": [
        "price=9.99\n",
        "print(type(price))"
      ],
      "metadata": {
        "colab": {
          "base_uri": "https://localhost:8080/"
        },
        "id": "X6WOdgxflfcb",
        "outputId": "c2dd4122-22d5-4e52-dda8-7791c79899b3"
      },
      "execution_count": 3,
      "outputs": [
        {
          "output_type": "stream",
          "name": "stdout",
          "text": [
            "<class 'float'>\n"
          ]
        }
      ]
    },
    {
      "cell_type": "markdown",
      "source": [
        "Q9. Create a variable named name and assign your full name to it as a string. How would you print the\n",
        "value of this variable?"
      ],
      "metadata": {
        "id": "QPeshj-Hlfpa"
      }
    },
    {
      "cell_type": "code",
      "source": [
        "name=\"Jayant Sharma\"\n",
        "print(name)"
      ],
      "metadata": {
        "colab": {
          "base_uri": "https://localhost:8080/"
        },
        "id": "IAnbXxfllh3W",
        "outputId": "5979bf12-6299-4d24-94f3-2c21a26d70b7"
      },
      "execution_count": 4,
      "outputs": [
        {
          "output_type": "stream",
          "name": "stdout",
          "text": [
            "Jayant Sharma\n"
          ]
        }
      ]
    },
    {
      "cell_type": "markdown",
      "source": [
        "Q10. Given the string \"Hello, World!\", extract the substring \"World\"."
      ],
      "metadata": {
        "id": "W33-MhcFliGB"
      }
    },
    {
      "cell_type": "code",
      "source": [
        "str=\"Hello, World!\"\n",
        "str[7:len(str)-1]"
      ],
      "metadata": {
        "colab": {
          "base_uri": "https://localhost:8080/",
          "height": 36
        },
        "id": "6lTDkKRQllJQ",
        "outputId": "7cced21e-3144-4ab5-c00c-ea1a7e778f1b"
      },
      "execution_count": 7,
      "outputs": [
        {
          "output_type": "execute_result",
          "data": {
            "text/plain": [
              "'World'"
            ],
            "application/vnd.google.colaboratory.intrinsic+json": {
              "type": "string"
            }
          },
          "metadata": {},
          "execution_count": 7
        }
      ]
    },
    {
      "cell_type": "markdown",
      "source": [
        "Q11. Create a variable named \"is_student\" and assign it a boolean value indicating whether you are\n",
        "currently a student or not."
      ],
      "metadata": {
        "id": "2e3tCSjDlkx1"
      }
    },
    {
      "cell_type": "code",
      "source": [
        "is_student=True # I am currently a student."
      ],
      "metadata": {
        "id": "s4L2Rwn8lpGE"
      },
      "execution_count": null,
      "outputs": []
    }
  ]
}