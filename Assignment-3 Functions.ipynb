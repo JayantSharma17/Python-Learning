{
  "nbformat": 4,
  "nbformat_minor": 0,
  "metadata": {
    "colab": {
      "provenance": []
    },
    "kernelspec": {
      "name": "python3",
      "display_name": "Python 3"
    },
    "language_info": {
      "name": "python"
    }
  },
  "cells": [
    {
      "cell_type": "markdown",
      "source": [
        "Q1. Which keyword is used to create a function? Create a function to return a list of odd numbers in the\n",
        "range of 1 to 25."
      ],
      "metadata": {
        "id": "UXUONzo04aV3"
      }
    },
    {
      "cell_type": "code",
      "execution_count": null,
      "metadata": {
        "colab": {
          "base_uri": "https://localhost:8080/"
        },
        "id": "IFOPMVir4Zdu",
        "outputId": "ab5d6943-0485-4df1-8872-be88dafd28e8"
      },
      "outputs": [
        {
          "output_type": "execute_result",
          "data": {
            "text/plain": [
              "[1, 3, 5, 7, 9, 11, 13, 15, 17, 19, 21, 23]"
            ]
          },
          "metadata": {},
          "execution_count": 1
        }
      ],
      "source": [
        "# The def keyword is used to create a function.\n",
        "\n",
        "def create_list(s,e):\n",
        "  l=[]\n",
        "  for i in range(s,e):\n",
        "    if(i%2 != 0):\n",
        "      l.append(i)\n",
        "  return l\n",
        "create_list(1,25)"
      ]
    },
    {
      "cell_type": "markdown",
      "source": [
        "Q2. Why *args and **kwargs is used in some functions? Create a function each for *args and **kwargs\n",
        "to demonstrate their use."
      ],
      "metadata": {
        "id": "bWmp6e7o4eGA"
      }
    },
    {
      "cell_type": "code",
      "source": [
        "# *args is used when number of arguments are unknown during initialization of function\n",
        "\n",
        "def adder(*num):\n",
        "    s = 0\n",
        "    for n in num:\n",
        "        s = s + n\n",
        "    print(\"Sum:\",s)\n",
        "\n",
        "adder(1,2)\n",
        "adder(1,2,3,4)\n",
        "adder(1,2,3,4,5)\n",
        "\n",
        "# **kwargs is used for passing keyword argument type of data in to the function\n",
        "\n",
        "def test(**kwargs):\n",
        "  return kwargs\n",
        "test(a=2,b='hi')"
      ],
      "metadata": {
        "id": "8nxhXR1t4kzH",
        "colab": {
          "base_uri": "https://localhost:8080/"
        },
        "outputId": "f2da0094-d9fb-4cb8-db35-a863cca8374c"
      },
      "execution_count": 19,
      "outputs": [
        {
          "output_type": "stream",
          "name": "stdout",
          "text": [
            "Sum: 3\n",
            "Sum: 10\n",
            "Sum: 15\n"
          ]
        },
        {
          "output_type": "execute_result",
          "data": {
            "text/plain": [
              "{'a': 2, 'b': 'hi'}"
            ]
          },
          "metadata": {},
          "execution_count": 19
        }
      ]
    },
    {
      "cell_type": "markdown",
      "source": [
        "Q3. What is an iterator in python? Name the method used to initialise the iterator object and the method\n",
        "used for iteration. Use these methods to print the first five elements of the given list [2, 4, 6, 8, 10, 12, 14,\n",
        "16, 18, 20]."
      ],
      "metadata": {
        "id": "FziENlEr4lod"
      }
    },
    {
      "cell_type": "code",
      "source": [
        "# iterator - an object that allows you to iterate over collections of data, such as lists, tuples, dictionaries, and sets.\n",
        "# Iter() method is used to initialize the iterator object\n",
        "# next() method is used for iteration over iterators.\n",
        "\n",
        "l =  [2, 4, 6, 8, 10, 12, 14, 16, 18, 20]\n",
        "l = iter(l)\n",
        "for i in range(5):\n",
        "  print(next(l))"
      ],
      "metadata": {
        "id": "OEaOu65P4ohN",
        "colab": {
          "base_uri": "https://localhost:8080/"
        },
        "outputId": "5863329d-a892-4929-d892-21fb30695b54"
      },
      "execution_count": 15,
      "outputs": [
        {
          "output_type": "stream",
          "name": "stdout",
          "text": [
            "2\n",
            "4\n",
            "6\n",
            "8\n",
            "10\n"
          ]
        }
      ]
    },
    {
      "cell_type": "markdown",
      "source": [
        "Q4. What is a generator function in python? Why yield keyword is used? Give an example of a generator\n",
        "function."
      ],
      "metadata": {
        "id": "QNnXYrNQ4o7B"
      }
    },
    {
      "cell_type": "code",
      "source": [
        "# A Python generator function allows you to declare a function that behaves like an iterator, providing a faster and easier way to create iterators.\n",
        "# yield keyword - Keyword is used to create generator function for returning output in the function.\n",
        "\n",
        "# example of a generator function.\n",
        "def fib(n):\n",
        "  a,b = 0,1\n",
        "  for i in range(n):\n",
        "    yield a\n",
        "    a,b = b,a+b\n",
        "\n",
        "for i in fib(5):\n",
        "  print(i)"
      ],
      "metadata": {
        "id": "5p0_Zc9L4rG2",
        "colab": {
          "base_uri": "https://localhost:8080/"
        },
        "outputId": "f95ff232-4571-45c1-ed18-b3a90ece7a55"
      },
      "execution_count": 8,
      "outputs": [
        {
          "output_type": "stream",
          "name": "stdout",
          "text": [
            "0\n",
            "1\n",
            "1\n",
            "2\n",
            "3\n"
          ]
        }
      ]
    },
    {
      "cell_type": "markdown",
      "source": [
        "Q5. Create a generator function for prime numbers less than 1000. Use the next() method to print the\n",
        "first 20 prime numbers."
      ],
      "metadata": {
        "id": "TAZanGHu4r4w"
      }
    },
    {
      "cell_type": "code",
      "source": [
        "def Prime_n():\n",
        "  n=2\n",
        "  while(True):\n",
        "    c=0\n",
        "    for i in range(2,n):\n",
        "      if(n%i==0):\n",
        "        c=1\n",
        "    if(c==0):\n",
        "      yield n\n",
        "    n=n+1\n",
        "\n",
        "num = Prime_n()\n",
        "for i in range(20):\n",
        "  print(next(num))\n"
      ],
      "metadata": {
        "id": "fU3U75Wd4t0w",
        "colab": {
          "base_uri": "https://localhost:8080/"
        },
        "outputId": "7903dd21-7667-448a-8eff-a581367a8db5"
      },
      "execution_count": 6,
      "outputs": [
        {
          "output_type": "stream",
          "name": "stdout",
          "text": [
            "2\n",
            "3\n",
            "5\n",
            "7\n",
            "11\n",
            "13\n",
            "17\n",
            "19\n",
            "23\n",
            "29\n",
            "31\n",
            "37\n",
            "41\n",
            "43\n",
            "47\n",
            "53\n",
            "59\n",
            "61\n",
            "67\n",
            "71\n"
          ]
        }
      ]
    },
    {
      "cell_type": "markdown",
      "source": [
        "Q6. Write a python program to print the first 10 Fibonacci numbers using a while loop."
      ],
      "metadata": {
        "id": "BVYRz2SM4uP5"
      }
    },
    {
      "cell_type": "code",
      "source": [
        "n=10\n",
        "a=0\n",
        "b=1\n",
        "i=0\n",
        "while(i<10):\n",
        "  print(a)\n",
        "  a, b = b, a+b\n",
        "  i=i+1"
      ],
      "metadata": {
        "id": "mmI2_11p4wv6",
        "colab": {
          "base_uri": "https://localhost:8080/"
        },
        "outputId": "0e94443a-e56c-4cd8-8829-91cfcf98844d"
      },
      "execution_count": null,
      "outputs": [
        {
          "output_type": "stream",
          "name": "stdout",
          "text": [
            "0\n",
            "1\n",
            "1\n",
            "2\n",
            "3\n",
            "5\n",
            "8\n",
            "13\n",
            "21\n",
            "34\n"
          ]
        }
      ]
    },
    {
      "cell_type": "markdown",
      "source": [
        "Q7. Write a List Comprehension to iterate through the given string: ‘pwskills’.\n",
        "Expected output: ['p', 'w', 's', 'k', 'i', 'l', 'l', 's']"
      ],
      "metadata": {
        "id": "iwCnMhqC4xKf"
      }
    },
    {
      "cell_type": "code",
      "source": [
        "s =  'pwskills'\n",
        "list = [i for i in s]\n",
        "print(list)"
      ],
      "metadata": {
        "id": "Az9bFqRa4zWh",
        "colab": {
          "base_uri": "https://localhost:8080/"
        },
        "outputId": "efc94e9c-01d6-4e88-8e89-5664d9e6a1fd"
      },
      "execution_count": null,
      "outputs": [
        {
          "output_type": "stream",
          "name": "stdout",
          "text": [
            "['p', 'w', 's', 'k', 'i', 'l', 'l', 's']\n"
          ]
        }
      ]
    },
    {
      "cell_type": "markdown",
      "source": [
        "Q8. Write a python program to check whether a given number is Palindrome or not using a while loop."
      ],
      "metadata": {
        "id": "dbLwkVUe40AJ"
      }
    },
    {
      "cell_type": "code",
      "source": [
        "n = input('Enter a number =')\n",
        "if(n == n[::-1]):\n",
        "  print('Palindrome')\n",
        "else:\n",
        "  print('not Palindrome')"
      ],
      "metadata": {
        "id": "2AxzR3Yf42zr",
        "colab": {
          "base_uri": "https://localhost:8080/"
        },
        "outputId": "96dec0c6-fec3-494b-f097-8e2a3de05a43"
      },
      "execution_count": null,
      "outputs": [
        {
          "output_type": "stream",
          "name": "stdout",
          "text": [
            "Enter a number =12521\n",
            "Palindrome\n"
          ]
        }
      ]
    },
    {
      "cell_type": "markdown",
      "source": [
        "Q9. Write a code to print odd numbers from 1 to 100 using list comprehension.\n",
        "Note: Use a list comprehension to create a list from 1 to 100 and use another List comprehension to filter\n",
        "out odd numbers."
      ],
      "metadata": {
        "id": "QnfTtFR443u6"
      }
    },
    {
      "cell_type": "code",
      "source": [
        "list1 = [i for i in range(100) if i%2 != 0]\n",
        "print(list1)"
      ],
      "metadata": {
        "id": "VSpfh1y946DX",
        "colab": {
          "base_uri": "https://localhost:8080/"
        },
        "outputId": "53da7c38-d722-4c91-dd06-60e9b7dbb39b"
      },
      "execution_count": null,
      "outputs": [
        {
          "output_type": "stream",
          "name": "stdout",
          "text": [
            "[1, 3, 5, 7, 9, 11, 13, 15, 17, 19, 21, 23, 25, 27, 29, 31, 33, 35, 37, 39, 41, 43, 45, 47, 49, 51, 53, 55, 57, 59, 61, 63, 65, 67, 69, 71, 73, 75, 77, 79, 81, 83, 85, 87, 89, 91, 93, 95, 97, 99]\n"
          ]
        }
      ]
    }
  ]
}