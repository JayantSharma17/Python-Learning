{
  "nbformat": 4,
  "nbformat_minor": 0,
  "metadata": {
    "colab": {
      "provenance": []
    },
    "kernelspec": {
      "name": "python3",
      "display_name": "Python 3"
    },
    "language_info": {
      "name": "python"
    }
  },
  "cells": [
    {
      "cell_type": "markdown",
      "source": [
        "Q1, Create a vehicle class with an init method having instance variables as name_of_vehicle, max_speed\n",
        "and average_of_vehicle."
      ],
      "metadata": {
        "id": "cjvNTeAN1p_2"
      }
    },
    {
      "cell_type": "code",
      "execution_count": null,
      "metadata": {
        "colab": {
          "base_uri": "https://localhost:8080/"
        },
        "id": "czQa7zRS1oYc",
        "outputId": "3bea06a2-7e58-44f7-d982-df934f4d9f65"
      },
      "outputs": [
        {
          "output_type": "execute_result",
          "data": {
            "text/plain": [
              "('Thar', 150, 25)"
            ]
          },
          "metadata": {},
          "execution_count": 3
        }
      ],
      "source": [
        "class vehicle:\n",
        "  def __init__(self,name_of_vehicle,max_speed,average_of_vehicle):\n",
        "    self.name_of_vehicle = name_of_vehicle\n",
        "    self.max_speed = max_speed\n",
        "    self.average_of_vehicle = average_of_vehicle\n",
        "  def show(self):\n",
        "    return self.name_of_vehicle,self.max_speed,self.average_of_vehicle\n",
        "\n",
        "obj = vehicle('Thar',150,25)\n",
        "obj.show()"
      ]
    },
    {
      "cell_type": "markdown",
      "source": [
        "Q2. Create a child class car from the vehicle class created in Que 1, which will inherit the vehicle class.\n",
        "Create a method named seating_capacity which takes capacity as an argument and returns the name of\n",
        "the vehicle and its seating capacity."
      ],
      "metadata": {
        "id": "esTeQJts1rku"
      }
    },
    {
      "cell_type": "code",
      "source": [
        "class vehicle:\n",
        "  def __init__(self,name_of_vehicle,max_speed,average_of_vehicle):\n",
        "    self.name_of_vehicle = name_of_vehicle\n",
        "    self.max_speed = max_speed\n",
        "    self.average_of_vehicle = average_of_vehicle\n",
        "  def show(self):\n",
        "    return self.name_of_vehicle,self.max_speed,self.average_of_vehicle\n",
        "\n",
        "class car(vehicle):\n",
        "  def seating_capacity(self,capacity):\n",
        "    self.capacity = capacity\n",
        "    return self.capacity,self.name_of_vehicle\n",
        "\n",
        "obj_car = car('Thar',150,25)\n",
        "obj_car.seating_capacity(6)"
      ],
      "metadata": {
        "colab": {
          "base_uri": "https://localhost:8080/"
        },
        "id": "9GTJnTMZ1vBG",
        "outputId": "514a2fa5-607f-404e-d500-15da0e7d2da8"
      },
      "execution_count": 7,
      "outputs": [
        {
          "output_type": "execute_result",
          "data": {
            "text/plain": [
              "(6, 'Thar')"
            ]
          },
          "metadata": {},
          "execution_count": 7
        }
      ]
    },
    {
      "cell_type": "markdown",
      "source": [
        "Q3. What is multiple inheritance? Write a python code to demonstrate multiple inheritance."
      ],
      "metadata": {
        "id": "aZAd1JM-1vZn"
      }
    },
    {
      "cell_type": "code",
      "source": [
        "# Multiple inheritance is a feature of object-oriented programming languages in which class can inherit features from more than one parent class.\n",
        "\n",
        "class A:\n",
        "  def showA(self):\n",
        "    print('Hello')\n",
        "\n",
        "class B:\n",
        "  def showB(self):\n",
        "    print('Hi')\n",
        "\n",
        "class C(A,B):\n",
        "  pass\n",
        "\n",
        "# Class C inherits the properties of Parent classes A and B( multiple inheritance )\n",
        "obj_C = C()\n",
        "\n",
        "obj_C.showA()\n",
        "obj_C.showB()\n"
      ],
      "metadata": {
        "id": "anjzsQTx1yC3",
        "colab": {
          "base_uri": "https://localhost:8080/"
        },
        "outputId": "49091c2c-caeb-44ce-8e9a-4aabdfb3dbe3"
      },
      "execution_count": 11,
      "outputs": [
        {
          "output_type": "stream",
          "name": "stdout",
          "text": [
            "Hello\n",
            "Hi\n"
          ]
        }
      ]
    },
    {
      "cell_type": "markdown",
      "source": [
        "Q4. What are getter and setter in python? Create a class and create a getter and a setter method in this\n",
        "class."
      ],
      "metadata": {
        "id": "tJd-_q3g1yev"
      }
    },
    {
      "cell_type": "code",
      "source": [
        "# Getters are the methods that are used in Object-Oriented Programming (OOPS) to access a class's private attributes.\n",
        "# Setter is a method that is used to set the property's value. It is very useful to set the value of private attributes in a class.\n",
        "\n",
        "class Fruit:\n",
        "  def __init__(self,name):\n",
        "    self._name = name\n",
        "\n",
        "  @property\n",
        "  def fruit_name(self):\n",
        "    print(f'\"{self._name}\" was accessed.')\n",
        "    return self._name\n",
        "\n",
        "  @fruit_name.setter\n",
        "  def fruit_name(self,value):\n",
        "    print(f'{self._name} is now \"{value}\"')\n",
        "    self._name = value\n",
        "\n",
        "fruit = Fruit('Apple')\n",
        "print(fruit.fruit_name)\n",
        "fruit.fruit_name='orange'\n"
      ],
      "metadata": {
        "id": "iFt2EgTm104P",
        "colab": {
          "base_uri": "https://localhost:8080/"
        },
        "outputId": "2ac8ebc0-866e-41a5-d47b-178beb82affe"
      },
      "execution_count": 23,
      "outputs": [
        {
          "output_type": "stream",
          "name": "stdout",
          "text": [
            "\"Apple\" was accessed.\n",
            "Apple\n",
            "Apple is now \"orange\"\n"
          ]
        }
      ]
    },
    {
      "cell_type": "markdown",
      "source": [
        "Q5.What is method overriding in python? Write a python code to demonstrate method overriding."
      ],
      "metadata": {
        "id": "N3wXsbOI11Hp"
      }
    },
    {
      "cell_type": "code",
      "source": [
        "# When a method in a subclass has the same name, same parameters or signature and same return type(or sub-type) as a method\n",
        "#  in its super-class, then the method in the subclass is said to override the method in the super-class.\n",
        "\n",
        "class P:\n",
        "  def __init__(self):\n",
        "    self.name = 'Parent'\n",
        "\n",
        "  def show(self):\n",
        "    print(self.name)\n",
        "\n",
        "class C(P):\n",
        "  def __init__(self):\n",
        "    self.name = 'Child'\n",
        "\n",
        "  def show(self):\n",
        "    print(self.name)\n",
        "\n",
        "p=P()\n",
        "c=C()\n",
        "p.show()\n",
        "c.show()"
      ],
      "metadata": {
        "id": "8hiFMAUJ13v7",
        "colab": {
          "base_uri": "https://localhost:8080/"
        },
        "outputId": "08184810-19b3-4f63-ce9d-30bd45bece90"
      },
      "execution_count": 25,
      "outputs": [
        {
          "output_type": "stream",
          "name": "stdout",
          "text": [
            "Parent\n",
            "Child\n"
          ]
        }
      ]
    }
  ]
}