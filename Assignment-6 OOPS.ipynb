{
  "nbformat": 4,
  "nbformat_minor": 0,
  "metadata": {
    "colab": {
      "provenance": []
    },
    "kernelspec": {
      "name": "python3",
      "display_name": "Python 3"
    },
    "language_info": {
      "name": "python"
    }
  },
  "cells": [
    {
      "cell_type": "markdown",
      "source": [
        "Q1. Explain Class and Object with respect to Object-Oriented Programming. Give a suitable example."
      ],
      "metadata": {
        "id": "u79C-eyuF_cC"
      }
    },
    {
      "cell_type": "code",
      "execution_count": 1,
      "metadata": {
        "id": "dQMDlxlKF-wB",
        "colab": {
          "base_uri": "https://localhost:8080/"
        },
        "outputId": "8b312b8d-c1d2-44aa-d68f-e677d7de4619"
      },
      "outputs": [
        {
          "output_type": "stream",
          "name": "stdout",
          "text": [
            "Hello World\n"
          ]
        }
      ],
      "source": [
        "# Class - A class is considered as a blueprint of objects.\n",
        "# We use the class keyword to create a class in Python.\n",
        "\n",
        "class A:\n",
        "  def show(self):\n",
        "    print('Hello World')\n",
        "\n",
        "# Object - An object is called an instance of a class.\n",
        "obj_of_A = A()\n",
        "obj_of_A.show()"
      ]
    },
    {
      "cell_type": "markdown",
      "source": [
        "Q2. Name the four pillars of OOPs."
      ],
      "metadata": {
        "id": "xNnJ7cXBGCSs"
      }
    },
    {
      "cell_type": "markdown",
      "source": [
        "\n",
        "\n",
        "```\n",
        "The Four Pillars of Object Oriented Programming are:\n",
        "1-Abstraction.\n",
        "2-Encapsulation.\n",
        "3-Inheritance.\n",
        "4-Polymorphism.\n",
        "```\n",
        "\n"
      ],
      "metadata": {
        "id": "XEflk-_bC27L"
      }
    },
    {
      "cell_type": "markdown",
      "source": [
        "Q3. Explain why the __init__() function is used. Give a suitable example."
      ],
      "metadata": {
        "id": "PUX3ZaMBGFE4"
      }
    },
    {
      "cell_type": "markdown",
      "source": [
        "\n",
        "\n",
        "```\n",
        "__init__() is a method that is called automatically whenever a new object of a class is created. This type of function is also known as the constructor function. A constructor function is a function that is called every time a new class object is created.\n",
        "```\n",
        "\n"
      ],
      "metadata": {
        "id": "rZrKOnDCD-Dm"
      }
    },
    {
      "cell_type": "code",
      "source": [
        "class A:\n",
        "    def __init__(self, name):\n",
        "        self.name = name\n",
        "    def show(self):\n",
        "        print(self.name)\n",
        "\n",
        "obj = A('Jayant Sharma')\n",
        "obj.show()"
      ],
      "metadata": {
        "id": "Fqw1XcRHGHJF",
        "colab": {
          "base_uri": "https://localhost:8080/"
        },
        "outputId": "4e071a26-64cb-44ee-8d5c-d3867406625e"
      },
      "execution_count": 3,
      "outputs": [
        {
          "output_type": "stream",
          "name": "stdout",
          "text": [
            "Jayant Sharma\n"
          ]
        }
      ]
    },
    {
      "cell_type": "markdown",
      "source": [
        "Q4. Why self is used in OOPs?"
      ],
      "metadata": {
        "id": "ev83Mh0sGHd5"
      }
    },
    {
      "cell_type": "markdown",
      "source": [
        "\n",
        "\n",
        "```\n",
        "self represents the instance of the class. By using the “self”  we can access the attributes and methods of the class in python. It binds the attributes with the given arguments.\n",
        "```\n",
        "\n"
      ],
      "metadata": {
        "id": "FrPRtbUMFKrp"
      }
    },
    {
      "cell_type": "markdown",
      "source": [
        "Q5. What is inheritance? Give an example for each type of inheritance."
      ],
      "metadata": {
        "id": "m1ZNXQlpGJVn"
      }
    },
    {
      "cell_type": "markdown",
      "source": [
        "\n",
        "\n",
        "```\n",
        "If a child object acquires all the properties and behaviors of a parent object then this concept is known as inheritance. It is an important part of OOPs (Object Oriented programming system).\n",
        "\n",
        "```\n",
        "\n"
      ],
      "metadata": {
        "id": "74MF2IgSFcLi"
      }
    },
    {
      "cell_type": "code",
      "source": [
        "class A:        #Parent class A\n",
        "  def showA(self):\n",
        "    print('Hello')\n",
        "\n",
        "class B:        #Parent class C\n",
        "  def showB(self):\n",
        "    print('Hi')\n",
        "\n",
        "class C(A,B):   #Child class C inherits the properties of Parent Class A and B.\n",
        "  def showC(self):\n",
        "    print('Gm')\n",
        "\n",
        "obj_of_C = C()\n",
        "obj_of_C.showA()\n",
        "obj_of_C.showB()\n",
        "obj_of_C.showC()"
      ],
      "metadata": {
        "id": "gjY9TgWZGjKc",
        "colab": {
          "base_uri": "https://localhost:8080/"
        },
        "outputId": "3c1a9ade-20c5-4a39-850c-56e76019cad5"
      },
      "execution_count": 5,
      "outputs": [
        {
          "output_type": "stream",
          "name": "stdout",
          "text": [
            "Hello\n",
            "Hi\n",
            "Gm\n"
          ]
        }
      ]
    }
  ]
}