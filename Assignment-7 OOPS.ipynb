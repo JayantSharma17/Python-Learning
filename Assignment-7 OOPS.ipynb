{
  "nbformat": 4,
  "nbformat_minor": 0,
  "metadata": {
    "colab": {
      "provenance": []
    },
    "kernelspec": {
      "name": "python3",
      "display_name": "Python 3"
    },
    "language_info": {
      "name": "python"
    }
  },
  "cells": [
    {
      "cell_type": "markdown",
      "source": [
        "Q1. What is Abstraction in OOps? Explain with an example."
      ],
      "metadata": {
        "id": "9np50LsrK4Jr"
      }
    },
    {
      "cell_type": "markdown",
      "source": [
        "\n",
        "\n",
        "```\n",
        "Abstraction in python is defined as a process of handling complexity by hiding unnecessary information from the user.\n",
        "This is one of the core concepts of object-oriented programming (OOP) languages.\n",
        "```\n",
        "\n"
      ],
      "metadata": {
        "id": "ufcpOB6KMJJI"
      }
    },
    {
      "cell_type": "code",
      "execution_count": 4,
      "metadata": {
        "colab": {
          "base_uri": "https://localhost:8080/"
        },
        "id": "bPQQl6MUKyT7",
        "outputId": "ec7266cd-3465-4148-9dcd-8184f4fe4c7b"
      },
      "outputs": [
        {
          "output_type": "stream",
          "name": "stdout",
          "text": [
            "speed is 100 km/h\n",
            "speed is 120 km/h\n"
          ]
        }
      ],
      "source": [
        "# Python provides the abc module to use the abstraction in the Python program\n",
        "import abc\n",
        "class Car:\n",
        "  @abc.abstractmethod\n",
        "  def speed(self):\n",
        "    pass\n",
        "class Maruti(Car):\n",
        "  def speed(self):\n",
        "    print(\"speed is 100 km/h\")\n",
        "class Toyota(Car):\n",
        "  def speed(self):\n",
        "    print(\"speed is 120 km/h\")\n",
        "\n",
        "M=Maruti()\n",
        "M.speed()\n",
        "\n",
        "T=Toyota()\n",
        "T.speed()"
      ]
    },
    {
      "cell_type": "markdown",
      "source": [
        "Q2. Differentiate between Abstraction and Encapsulation. Explain with an example."
      ],
      "metadata": {
        "id": "rbdguDDFK7NX"
      }
    },
    {
      "cell_type": "markdown",
      "source": [
        "\n",
        "\n",
        "```\n",
        "Abstraction is a process of hiding the implementation details of a system from the user\n",
        "```\n",
        "\n"
      ],
      "metadata": {
        "id": "qKmMx63SOhck"
      }
    },
    {
      "cell_type": "code",
      "source": [
        "import abc\n",
        "class House:\n",
        "  @abc.abstractmethod\n",
        "  def Bricks(self):\n",
        "    pass\n",
        "class Flat(House):\n",
        "  def Bricks(self):\n",
        "    print(\"10000 bricks required\")\n",
        "class Shop(House):\n",
        "  def Bricks(self):\n",
        "    print(\"15000 bricks are required\")\n",
        "\n",
        "F=Flat()\n",
        "F.Bricks()\n",
        "\n",
        "S=Shop()\n",
        "S.Bricks()"
      ],
      "metadata": {
        "colab": {
          "base_uri": "https://localhost:8080/"
        },
        "id": "5WQEZiVSLIsM",
        "outputId": "6f8f5e1b-68e5-4ab4-dee3-e9ac992b36eb"
      },
      "execution_count": 5,
      "outputs": [
        {
          "output_type": "stream",
          "name": "stdout",
          "text": [
            "10000 bricks required\n",
            "15000 bricks are required\n"
          ]
        }
      ]
    },
    {
      "cell_type": "markdown",
      "source": [
        "\n",
        "\n",
        "```\n",
        "Encapsulation is a method of wrapping up the data and code acting on the data into a single unit.\n",
        "\n",
        "```\n",
        "\n"
      ],
      "metadata": {
        "id": "2htcZOb5Ovkx"
      }
    },
    {
      "cell_type": "code",
      "source": [
        "class bank_account:\n",
        "  def __init__(self,balance):\n",
        "    self.__balance=balance\n",
        "  def deeposit(self,amount):\n",
        "    self.__balance = self.__balance + amount\n",
        "  def withdraw(self,amount):\n",
        "    if self.__balance>=amount:\n",
        "      self.__balance=self.__balance-amount\n",
        "      return True\n",
        "    else:\n",
        "      return False\n",
        "  def get_balance(self):\n",
        "    return self.__balance\n",
        "\n",
        "b=bank_account(1000)\n",
        "print(b.get_balance())\n",
        "b.deeposit(500)\n",
        "print(b.get_balance())"
      ],
      "metadata": {
        "colab": {
          "base_uri": "https://localhost:8080/"
        },
        "id": "N3NxsP7iO2Xi",
        "outputId": "8cd3b5ee-1ba0-42d1-e508-9eb46a009e08"
      },
      "execution_count": 12,
      "outputs": [
        {
          "output_type": "stream",
          "name": "stdout",
          "text": [
            "1000\n",
            "1500\n"
          ]
        }
      ]
    },
    {
      "cell_type": "markdown",
      "source": [
        "Q3. What is abc module in python? Why is it used?"
      ],
      "metadata": {
        "id": "-QlpdPRtK-QX"
      }
    },
    {
      "cell_type": "code",
      "source": [
        "# The 'abc' module in Python library provides the infrastructure for defining custom abstract base classes.\n",
        "# 'abc' works by marking methods of the base class as abstract. This is done by @absttractmethod decorator.\n",
        "\n",
        "import abc\n",
        "class Shape:\n",
        "   @abc.abstractmethod\n",
        "   def area(self):\n",
        "      pass\n",
        "class Rectangle(Shape):\n",
        "   def __init__(self, x,y):\n",
        "      self.l = x\n",
        "      self.b=y\n",
        "   def area(self):\n",
        "      return self.l*self.b\n",
        "r = Rectangle(10,20)\n",
        "print ('area: ',r.area())"
      ],
      "metadata": {
        "colab": {
          "base_uri": "https://localhost:8080/"
        },
        "id": "8YHLVrZrLKFg",
        "outputId": "6eef4980-55da-44ad-be21-8cdd34dc5063"
      },
      "execution_count": 13,
      "outputs": [
        {
          "output_type": "stream",
          "name": "stdout",
          "text": [
            "area:  200\n"
          ]
        }
      ]
    },
    {
      "cell_type": "markdown",
      "source": [
        "Q4. How can we achieve data abstraction?"
      ],
      "metadata": {
        "id": "0g5srDWnLATh"
      }
    },
    {
      "cell_type": "markdown",
      "source": [
        "\n",
        "\n",
        "```\n",
        "  In Python, abstraction can be achieved by having/using abstract classes and methods in our programs.\n",
        "  An abstract method is a method that is declared, but does not contain implementation.\n",
        "```\n",
        "\n"
      ],
      "metadata": {
        "id": "3bzYQLsWR4Q0"
      }
    },
    {
      "cell_type": "code",
      "source": [
        "from abc import ABC\n",
        "class ClassName(ABC):"
      ],
      "metadata": {
        "id": "rTfxdiIOLLb_"
      },
      "execution_count": null,
      "outputs": []
    },
    {
      "cell_type": "markdown",
      "source": [
        "Q5. Can we create an instance of an abstract class? Explain your answer."
      ],
      "metadata": {
        "id": "VkpIHBhtLCtl"
      }
    },
    {
      "cell_type": "markdown",
      "source": [
        "\n",
        "\n",
        "```\n",
        "Abstract classes are not complete, as they may have some methods that are not defined. So we cannot create an instance or object of an abstract class in Python.\n",
        "```\n",
        "\n"
      ],
      "metadata": {
        "id": "RQKXymSSSjy_"
      }
    }
  ]
}