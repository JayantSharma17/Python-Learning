{
  "nbformat": 4,
  "nbformat_minor": 0,
  "metadata": {
    "colab": {
      "provenance": []
    },
    "kernelspec": {
      "name": "python3",
      "display_name": "Python 3"
    },
    "language_info": {
      "name": "python"
    }
  },
  "cells": [
    {
      "cell_type": "markdown",
      "source": [
        "Q1. Explain why we have to use the Exception class while creating a Custom Exception.\n",
        "Note: Here Exception class refers to the base class for all the exceptions."
      ],
      "metadata": {
        "id": "CS2gwMUCdQeK"
      }
    },
    {
      "cell_type": "markdown",
      "source": [
        "Ans.When creating a custom exception in Python, it is recommended to inherit from the base class Exception or one of its subclasses.\n",
        "We use Exception class while creating a Custom Exception for Exception handling.\n",
        "\n",
        "By using the Exception class as the base class for custom exceptions, you ensure that your exceptions are well-integrated into the\n",
        "Python exception handling system, provide a consistent structure,\n",
        "and can be handled using existing exception handling techniques."
      ],
      "metadata": {
        "id": "SyyNzJUEKkhN"
      }
    },
    {
      "cell_type": "code",
      "source": [
        "# When creating a custom exception in Python, it is recommended to inherit from the base class Exception or one of its subclasses.\n",
        "# We use Exception class while creating a Custom Exception for Exception handling.\n",
        "\n",
        "# By using the Exception class as the base class for custom exceptions, you ensure that your exceptions are well-integrated into the Python exception handling system,\n",
        "# provide a consistent structure, and can be handled using existing exception handling techniques."
      ],
      "metadata": {
        "id": "skNKgid7NYh6"
      },
      "execution_count": null,
      "outputs": []
    },
    {
      "cell_type": "markdown",
      "source": [
        "Q2. Write a python program to print Python Exception Hierarchy."
      ],
      "metadata": {
        "id": "gQPFmi4JdTiN"
      }
    },
    {
      "cell_type": "code",
      "source": [
        "import sys\n",
        "\n",
        "def print_exception_hierarchy(exception_class, indent=''):\n",
        "    print(f'{indent}{exception_class.__name__}')\n",
        "    for subclass in exception_class.__subclasses__():\n",
        "        print_exception_hierarchy(subclass, indent + '  ')\n",
        "\n",
        "# Start from the base Exception class\n",
        "print_exception_hierarchy(BaseException)"
      ],
      "metadata": {
        "colab": {
          "base_uri": "https://localhost:8080/"
        },
        "id": "Rj8jryUNLE3w",
        "outputId": "2f60d7aa-a9df-4a72-b768-44e54238c97f"
      },
      "execution_count": 1,
      "outputs": [
        {
          "output_type": "stream",
          "name": "stdout",
          "text": [
            "BaseException\n",
            "  Exception\n",
            "    TypeError\n",
            "      MultipartConversionError\n",
            "      FloatOperation\n",
            "      UFuncTypeError\n",
            "        UFuncTypeError\n",
            "        UFuncTypeError\n",
            "        UFuncTypeError\n",
            "          UFuncTypeError\n",
            "          UFuncTypeError\n",
            "      ConversionError\n",
            "    StopAsyncIteration\n",
            "    StopIteration\n",
            "    ImportError\n",
            "      ModuleNotFoundError\n",
            "        PackageNotFoundError\n",
            "      ZipImportError\n",
            "    OSError\n",
            "      ConnectionError\n",
            "        BrokenPipeError\n",
            "        ConnectionAbortedError\n",
            "        ConnectionRefusedError\n",
            "        ConnectionResetError\n",
            "          RemoteDisconnected\n",
            "      BlockingIOError\n",
            "      ChildProcessError\n",
            "      FileExistsError\n",
            "      FileNotFoundError\n",
            "        ExecutableNotFoundError\n",
            "      IsADirectoryError\n",
            "      NotADirectoryError\n",
            "      InterruptedError\n",
            "        InterruptedSystemCall\n",
            "      PermissionError\n",
            "      ProcessLookupError\n",
            "      TimeoutError\n",
            "      UnsupportedOperation\n",
            "      itimer_error\n",
            "      Error\n",
            "        SameFileError\n",
            "      SpecialFileError\n",
            "      ExecError\n",
            "      ReadError\n",
            "      herror\n",
            "      gaierror\n",
            "      SSLError\n",
            "        SSLCertVerificationError\n",
            "        SSLZeroReturnError\n",
            "        SSLWantWriteError\n",
            "        SSLWantReadError\n",
            "        SSLSyscallError\n",
            "        SSLEOFError\n",
            "      URLError\n",
            "        HTTPError\n",
            "        ContentTooShortError\n",
            "      BadGzipFile\n",
            "      ProxyError\n",
            "        GeneralProxyError\n",
            "        ProxyConnectionError\n",
            "        SOCKS5AuthError\n",
            "        SOCKS5Error\n",
            "        SOCKS4Error\n",
            "        HTTPError\n",
            "      UnidentifiedImageError\n",
            "    EOFError\n",
            "      IncompleteReadError\n",
            "    RuntimeError\n",
            "      RecursionError\n",
            "      NotImplementedError\n",
            "        StdinNotImplementedError\n",
            "        ZMQVersionError\n",
            "      _DeadlockError\n",
            "      BrokenBarrierError\n",
            "      BrokenExecutor\n",
            "        BrokenThreadPool\n",
            "      SendfileNotAvailableError\n",
            "      RemovedCommandError\n",
            "      PackageDiscoveryError\n",
            "      TooHardError\n",
            "      ExtractionError\n",
            "      VariableError\n",
            "    NameError\n",
            "      UnboundLocalError\n",
            "    AttributeError\n",
            "      FrozenInstanceError\n",
            "    SyntaxError\n",
            "      IndentationError\n",
            "        TabError\n",
            "      ParseError\n",
            "    LookupError\n",
            "      IndexError\n",
            "        AxisError\n",
            "        OutOfBounds\n",
            "      KeyError\n",
            "        UnknownBackend\n",
            "        NoSuchKernel\n",
            "      CodecRegistryError\n",
            "    ValueError\n",
            "      UnicodeError\n",
            "        UnicodeEncodeError\n",
            "        UnicodeDecodeError\n",
            "        UnicodeTranslateError\n",
            "      UnsupportedOperation\n",
            "      JSONDecodeError\n",
            "      UnsupportedDigestmodError\n",
            "      Error\n",
            "      ClassNotFound\n",
            "      SSLCertVerificationError\n",
            "      ClipboardEmpty\n",
            "      MessageDefect\n",
            "        NoBoundaryInMultipartDefect\n",
            "        StartBoundaryNotFoundDefect\n",
            "        CloseBoundaryNotFoundDefect\n",
            "        FirstHeaderLineIsContinuationDefect\n",
            "        MisplacedEnvelopeHeaderDefect\n",
            "        MissingHeaderBodySeparatorDefect\n",
            "        MultipartInvariantViolationDefect\n",
            "        InvalidMultipartContentTransferEncodingDefect\n",
            "        UndecodableBytesDefect\n",
            "        InvalidBase64PaddingDefect\n",
            "        InvalidBase64CharactersDefect\n",
            "        InvalidBase64LengthDefect\n",
            "        HeaderDefect\n",
            "          InvalidHeaderDefect\n",
            "          HeaderMissingRequiredValue\n",
            "          NonPrintableDefect\n",
            "          ObsoleteHeaderDefect\n",
            "          NonASCIILocalPartDefect\n",
            "          InvalidDateDefect\n",
            "      IllegalMonthError\n",
            "      IllegalWeekdayError\n",
            "      MacroToEdit\n",
            "      ParserError\n",
            "      UnequalIterablesError\n",
            "      ELFInvalid\n",
            "      InvalidVersion\n",
            "      InvalidWheelFilename\n",
            "      InvalidSdistFilename\n",
            "      InvalidSpecifier\n",
            "      InvalidMarker\n",
            "      UndefinedComparison\n",
            "      UndefinedEnvironmentName\n",
            "      InvalidRequirement\n",
            "      DisabledFunctionError\n",
            "      AxisError\n",
            "      InvalidVersion\n",
            "      DefusedXmlException\n",
            "        DTDForbidden\n",
            "        EntitiesForbidden\n",
            "        ExternalReferenceForbidden\n",
            "        NotSupportedError\n",
            "      NonIntersectingPathException\n",
            "      InvalidFileException\n",
            "      UnequalIterablesError\n",
            "      InvalidVersion\n",
            "      ELFInvalid\n",
            "      InvalidWheelFilename\n",
            "      InvalidSdistFilename\n",
            "      InvalidSpecifier\n",
            "      InvalidMarker\n",
            "      UndefinedComparison\n",
            "      UndefinedEnvironmentName\n",
            "      InvalidRequirement\n",
            "        RequirementParseError\n",
            "    AssertionError\n",
            "    ArithmeticError\n",
            "      FloatingPointError\n",
            "      OverflowError\n",
            "      ZeroDivisionError\n",
            "        DivisionByZero\n",
            "        DivisionUndefined\n",
            "      DecimalException\n",
            "        Clamped\n",
            "        Rounded\n",
            "          Underflow\n",
            "          Overflow\n",
            "        Inexact\n",
            "          Underflow\n",
            "          Overflow\n",
            "        Subnormal\n",
            "          Underflow\n",
            "        DivisionByZero\n",
            "        FloatOperation\n",
            "        InvalidOperation\n",
            "          ConversionSyntax\n",
            "          DivisionImpossible\n",
            "          DivisionUndefined\n",
            "          InvalidContext\n",
            "    SystemError\n",
            "      CodecRegistryError\n",
            "    ReferenceError\n",
            "    MemoryError\n",
            "      MemoryError\n",
            "    BufferError\n",
            "    Warning\n",
            "      UserWarning\n",
            "        GetPassWarning\n",
            "        FormatterWarning\n",
            "        SetuptoolsWarning\n",
            "          InformationOnly\n",
            "          SetuptoolsDeprecationWarning\n",
            "            _AmbiguousMarker\n",
            "            _DeprecatedConfig\n",
            "            _WouldIgnoreField\n",
            "            DistDeprecationWarning\n",
            "          _BetaConfiguration\n",
            "          _InvalidFile\n",
            "        VisibleDeprecationWarning\n",
            "        RankWarning\n",
            "        ConversionWarning\n",
            "        RankWarning\n",
            "      EncodingWarning\n",
            "      DeprecationWarning\n",
            "        ProvisionalWarning\n",
            "        ModuleDeprecationWarning\n",
            "        MatplotlibDeprecationWarning\n",
            "      PendingDeprecationWarning\n",
            "      SyntaxWarning\n",
            "      RuntimeWarning\n",
            "        ProactorSelectorThreadWarning\n",
            "        UnknownTimezoneWarning\n",
            "        ComplexWarning\n",
            "        DecompressionBombWarning\n",
            "        PEP440Warning\n",
            "      FutureWarning\n",
            "        ProvisionalCompleterWarning\n",
            "        MaskedArrayFutureWarning\n",
            "      ImportWarning\n",
            "      UnicodeWarning\n",
            "      BytesWarning\n",
            "      ResourceWarning\n",
            "      DeprecatedTzFormatWarning\n",
            "      MathTextWarning\n",
            "      PkgResourcesDeprecationWarning\n",
            "    _OptionError\n",
            "    error\n",
            "    Verbose\n",
            "    Error\n",
            "    _Error\n",
            "    SubprocessError\n",
            "      CalledProcessError\n",
            "      TimeoutExpired\n",
            "    Error\n",
            "    TokenError\n",
            "    StopTokenizing\n",
            "    error\n",
            "    LZMAError\n",
            "    RegistryError\n",
            "    _GiveupOnFastCopy\n",
            "    ClassFoundException\n",
            "    EndOfBlock\n",
            "    TraitError\n",
            "    _GiveupOnSendfile\n",
            "    error\n",
            "    PickleError\n",
            "      PicklingError\n",
            "      UnpicklingError\n",
            "    _Stop\n",
            "    Empty\n",
            "    Full\n",
            "    ArgumentError\n",
            "    ArgumentTypeError\n",
            "    ConfigError\n",
            "      ConfigLoaderError\n",
            "        ArgumentError\n",
            "      ConfigFileNotFound\n",
            "    ConfigurableError\n",
            "      MultipleInstanceError\n",
            "    ApplicationError\n",
            "    ErrorDuringImport\n",
            "    BdbQuit\n",
            "    Restart\n",
            "    ExceptionPexpect\n",
            "      EOF\n",
            "      TIMEOUT\n",
            "    error\n",
            "    PtyProcessError\n",
            "    FindCmdError\n",
            "    HomeDirError\n",
            "    ProfileDirError\n",
            "    IPythonCoreError\n",
            "      TryNext\n",
            "      UsageError\n",
            "      StdinNotImplementedError\n",
            "    InputRejected\n",
            "    GetoptError\n",
            "    Incomplete\n",
            "    OptionError\n",
            "    ErrorToken\n",
            "    PrefilterError\n",
            "    AliasError\n",
            "      InvalidAliasError\n",
            "    Error\n",
            "      InterfaceError\n",
            "      DatabaseError\n",
            "        InternalError\n",
            "        OperationalError\n",
            "        ProgrammingError\n",
            "        IntegrityError\n",
            "        DataError\n",
            "        NotSupportedError\n",
            "    Warning\n",
            "    Error\n",
            "      CancelledError\n",
            "      TimeoutError\n",
            "      InvalidStateError\n",
            "    TimeoutError\n",
            "    InvalidStateError\n",
            "    LimitOverrunError\n",
            "    QueueEmpty\n",
            "    QueueFull\n",
            "    SpaceInInput\n",
            "    DOMException\n",
            "      IndexSizeErr\n",
            "      DomstringSizeErr\n",
            "      HierarchyRequestErr\n",
            "      WrongDocumentErr\n",
            "      InvalidCharacterErr\n",
            "      NoDataAllowedErr\n",
            "      NoModificationAllowedErr\n",
            "      NotFoundErr\n",
            "      NotSupportedErr\n",
            "      InuseAttributeErr\n",
            "      InvalidStateErr\n",
            "      SyntaxErr\n",
            "      InvalidModificationErr\n",
            "      NamespaceErr\n",
            "      InvalidAccessErr\n",
            "      ValidationErr\n",
            "    ValidationError\n",
            "    EditReadOnlyBuffer\n",
            "    _Retry\n",
            "    InvalidLayoutError\n",
            "    HeightIsUnknownError\n",
            "    MessageError\n",
            "      MessageParseError\n",
            "        HeaderParseError\n",
            "          _InvalidEwError\n",
            "        BoundaryError\n",
            "      MultipartConversionError\n",
            "      CharsetError\n",
            "    Error\n",
            "    HTTPException\n",
            "      NotConnected\n",
            "      InvalidURL\n",
            "      UnknownProtocol\n",
            "      UnknownTransferEncoding\n",
            "      UnimplementedFileMode\n",
            "      IncompleteRead\n",
            "      ImproperConnectionState\n",
            "        CannotSendRequest\n",
            "        CannotSendHeader\n",
            "        ResponseNotReady\n",
            "      BadStatusLine\n",
            "        RemoteDisconnected\n",
            "      LineTooLong\n",
            "    InteractivelyDefined\n",
            "    KillEmbedded\n",
            "    ArgumentError\n",
            "    ZMQBaseError\n",
            "      ZMQError\n",
            "        ContextTerminated\n",
            "        Again\n",
            "        InterruptedSystemCall\n",
            "      ZMQBindError\n",
            "      NotDone\n",
            "    NoIPAddresses\n",
            "    Error\n",
            "      NoSectionError\n",
            "      DuplicateSectionError\n",
            "      DuplicateOptionError\n",
            "      NoOptionError\n",
            "      InterpolationError\n",
            "        InterpolationMissingOptionError\n",
            "        InterpolationSyntaxError\n",
            "        InterpolationDepthError\n",
            "      ParsingError\n",
            "        MissingSectionHeaderError\n",
            "    InvalidPortNumber\n",
            "    DuplicateKernelError\n",
            "    error\n",
            "    ReturnValueIgnoredError\n",
            "    KeyReuseError\n",
            "    UnknownKeyError\n",
            "    LeakedCallbackError\n",
            "    BadYieldError\n",
            "    ReturnValueIgnoredError\n",
            "    Return\n",
            "    QueueEmpty\n",
            "    QueueFull\n",
            "    DistutilsError\n",
            "      DistutilsModuleError\n",
            "      DistutilsClassError\n",
            "      DistutilsGetoptError\n",
            "      DistutilsArgError\n",
            "      DistutilsFileError\n",
            "      DistutilsOptionError\n",
            "      DistutilsSetupError\n",
            "      DistutilsPlatformError\n",
            "      DistutilsExecError\n",
            "      DistutilsInternalError\n",
            "      DistutilsTemplateError\n",
            "      DistutilsByteCompileError\n",
            "      RemovedCommandError\n",
            "      PackageDiscoveryError\n",
            "    CCompilerError\n",
            "      PreprocessError\n",
            "      CompileError\n",
            "      LibError\n",
            "      LinkError\n",
            "      UnknownFileError\n",
            "    BadZipFile\n",
            "    LargeZipFile\n",
            "    Error\n",
            "    ParserSyntaxError\n",
            "    LinAlgError\n",
            "    ConverterError\n",
            "      ConverterLockError\n",
            "    MAError\n",
            "      MaskError\n",
            "    Error\n",
            "      AuthorizationError\n",
            "      RuntimeManagementError\n",
            "      MessageError\n",
            "    WidgetException\n",
            "    JsException\n",
            "    FormattedTracebackError\n",
            "    Error\n",
            "      NoSuchProcess\n",
            "        ZombieProcess\n",
            "      AccessDenied\n",
            "      TimeoutExpired\n",
            "    _Ipv6UnsupportedError\n",
            "    ParseBaseException\n",
            "      ParseException\n",
            "      ParseFatalException\n",
            "        ParseSyntaxException\n",
            "    RecursiveGrammarException\n",
            "    HttpLib2Error\n",
            "      HttpLib2ErrorWithResponse\n",
            "        RedirectMissingLocation\n",
            "        RedirectLimit\n",
            "        FailedToDecompressContent\n",
            "        UnimplementedDigestAuthOptionError\n",
            "        UnimplementedHmacDigestAuthOptionError\n",
            "      MalformedHeader\n",
            "      RelativeURIError\n",
            "      ServerNotFoundError\n",
            "      ProxiesUnavailableError\n",
            "    ExpatError\n",
            "    DecompressionBombError\n",
            "    FFIError\n",
            "    CDefError\n",
            "    VerificationError\n",
            "    VerificationMissing\n",
            "    PkgConfigError\n",
            "    DuplicateConstraint\n",
            "    UnsatisfiableConstraint\n",
            "    UnknownConstraint\n",
            "    DuplicateEditVariable\n",
            "    UnknownEditVariable\n",
            "    BadRequiredStrength\n",
            "    NonGuiException\n",
            "    InvalidIndexError\n",
            "    TerminateTrajectory\n",
            "    NoFreePortFoundError\n",
            "    DebuggerInitializationError\n",
            "    Error\n",
            "      ProtocolError\n",
            "      ResponseError\n",
            "      Fault\n",
            "    ParserSyntaxError\n",
            "    ResolutionError\n",
            "      VersionConflict\n",
            "        ContextualVersionConflict\n",
            "      DistributionNotFound\n",
            "      UnknownExtra\n",
            "    _Error\n",
            "    UnableToResolveVariableException\n",
            "    InvalidTypeInArgsException\n",
            "  GeneratorExit\n",
            "  SystemExit\n",
            "  KeyboardInterrupt\n",
            "  CancelledError\n",
            "  AbortThread\n",
            "  AbortThread\n"
          ]
        }
      ]
    },
    {
      "cell_type": "markdown",
      "source": [
        "Q3. What errors are defined in the ArithmeticError class? Explain any two with an example."
      ],
      "metadata": {
        "id": "jeUtL5GZdVfU"
      }
    },
    {
      "cell_type": "code",
      "source": [
        "# The ArithmeticError class in Python is a base class for exceptions that occur during arithmetic operations. It represents a wide range of arithmetic-related errors.\n",
        "# Here are two common errors defined in the ArithmeticError class, along with examples:\n",
        "\n"
      ],
      "metadata": {
        "id": "LGMXNxURLb1q"
      },
      "execution_count": null,
      "outputs": []
    },
    {
      "cell_type": "code",
      "source": [
        "numerator = 10\n",
        "denominator = 0\n",
        "\n",
        "try:\n",
        "    result = numerator / denominator\n",
        "    print(result)\n",
        "except ZeroDivisionError as e:\n",
        "    print(\"Error: Division by zero!\")\n"
      ],
      "metadata": {
        "colab": {
          "base_uri": "https://localhost:8080/"
        },
        "id": "tHrwmL_YLhfb",
        "outputId": "f79b10f5-0f86-42ce-c11a-ab1dfc55c1bb"
      },
      "execution_count": 2,
      "outputs": [
        {
          "output_type": "stream",
          "name": "stdout",
          "text": [
            "Error: Division by zero!\n"
          ]
        }
      ]
    },
    {
      "cell_type": "code",
      "source": [
        "a = 2 ** 1024  # Exponentiation operation that exceeds the maximum value\n",
        "\n",
        "try:\n",
        "    print(a)\n",
        "except OverflowError as e:\n",
        "    print(\"Error: Result exceeds the maximum representable value!\")"
      ],
      "metadata": {
        "id": "C86Js2XJNSmR"
      },
      "execution_count": null,
      "outputs": []
    },
    {
      "cell_type": "markdown",
      "source": [
        "Q4. Why LookupError class is used? Explain with an example KeyError and IndexError."
      ],
      "metadata": {
        "id": "bSSvZBsidXv0"
      }
    },
    {
      "cell_type": "markdown",
      "source": [
        "\n",
        "\n",
        "```\n",
        "The LookupError class in Python is a base class for exceptions that occur when a lookup or indexing operation fails. It serves as a common base class for various lookup-related errors, including KeyError and IndexError. Here's an explanation of KeyError and IndexError, along with examples:\n",
        "```\n",
        "\n"
      ],
      "metadata": {
        "id": "h6qlOh12NwJo"
      }
    },
    {
      "cell_type": "markdown",
      "source": [
        "\n",
        "\n",
        "```\n",
        "KeyError: This error occurs when a dictionary or mapping-based lookup fails due to a missing or invalid key.\n",
        "```\n",
        "\n"
      ],
      "metadata": {
        "id": "lTaKOWPnOBxl"
      }
    },
    {
      "cell_type": "code",
      "source": [
        "my_dict = {'a': 1, 'b': 2, 'c': 3}\n",
        "\n",
        "try:\n",
        "    value = my_dict['d']  # Accessing a non-existent key\n",
        "    print(value)\n",
        "except KeyError as e:\n",
        "    print(\"Error: Key does not exist in the dictionary!\")"
      ],
      "metadata": {
        "id": "1aXpcj2XN41L"
      },
      "execution_count": null,
      "outputs": []
    },
    {
      "cell_type": "markdown",
      "source": [
        "\n",
        "\n",
        "```\n",
        "IndexError: This error occurs when an indexing operation on a sequence (such as a list, tuple, or string) fails due to an invalid index.\n",
        "```\n",
        "\n"
      ],
      "metadata": {
        "id": "buc7Ss0HOGYj"
      }
    },
    {
      "cell_type": "code",
      "source": [
        "my_list = [1, 2, 3]\n",
        "\n",
        "try:\n",
        "    value = my_list[3]  # Accessing an index beyond the list length\n",
        "    print(value)\n",
        "except IndexError as e:\n",
        "    print(\"Error: Index is out of range!\")\n"
      ],
      "metadata": {
        "colab": {
          "base_uri": "https://localhost:8080/"
        },
        "id": "p3qHUQauOGof",
        "outputId": "e5068d1e-621f-408a-9d41-e4c13eb9edc8"
      },
      "execution_count": 1,
      "outputs": [
        {
          "output_type": "stream",
          "name": "stdout",
          "text": [
            "Error: Index is out of range!\n"
          ]
        }
      ]
    },
    {
      "cell_type": "markdown",
      "source": [
        "Q5. Explain ImportError. What is ModuleNotFoundError?"
      ],
      "metadata": {
        "id": "1acXyb-kdaOo"
      }
    },
    {
      "cell_type": "markdown",
      "source": [
        "\n",
        "\n",
        "```\n",
        "ImportError: This exception is raised when an import statement fails to locate and import a module. It can occur due to various reasons, such as:\n",
        "```\n",
        "\n"
      ],
      "metadata": {
        "id": "THTN6peHOluW"
      }
    },
    {
      "cell_type": "code",
      "source": [
        "try:\n",
        "    import Jayant_Sharma\n",
        "except ImportError as e:\n",
        "    print(\"Error: Module cannot be imported!\")\n"
      ],
      "metadata": {
        "colab": {
          "base_uri": "https://localhost:8080/"
        },
        "id": "Ka3x6qexOn7B",
        "outputId": "adffe3af-5d7f-4e0e-87df-b672519eb424"
      },
      "execution_count": 2,
      "outputs": [
        {
          "output_type": "stream",
          "name": "stdout",
          "text": [
            "Error: Module cannot be imported!\n"
          ]
        }
      ]
    },
    {
      "cell_type": "markdown",
      "source": [
        "\n",
        "\n",
        "```\n",
        "ModuleNotFoundError: This exception is a subclass of ImportError and is specifically raised when a module cannot be found or imported. It was introduced in Python 3.6 as a more specific exception for module-related import errors.\n",
        "```\n",
        "\n"
      ],
      "metadata": {
        "id": "rEWJ14OjOxhg"
      }
    },
    {
      "cell_type": "code",
      "source": [
        "try:\n",
        "    import non_existent_module\n",
        "except ModuleNotFoundError as e:\n",
        "    print(\"Error: Module not found!\")\n"
      ],
      "metadata": {
        "colab": {
          "base_uri": "https://localhost:8080/"
        },
        "id": "DkI8mCzoO0la",
        "outputId": "f46261fd-9ce4-48b4-e64e-d16ddec94087"
      },
      "execution_count": 3,
      "outputs": [
        {
          "output_type": "stream",
          "name": "stdout",
          "text": [
            "Error: Module not found!\n"
          ]
        }
      ]
    },
    {
      "cell_type": "markdown",
      "source": [
        "Q6. List down some best practices for exception handling in python."
      ],
      "metadata": {
        "id": "-q6qJgRQdcac"
      }
    },
    {
      "cell_type": "markdown",
      "source": [
        "\n",
        "\n",
        "\n",
        "1.   Use Exceptions for Exceptional Cases. ...\n",
        "2.   Don't Swallow the Exception. ...\n",
        "3.   Catch Specific Exceptions. ...\n",
        "4.   Always Clean Up Resources in a Finally Block. ...\n",
        "5.   Avoid Raising Generic Exceptions. ...\n",
        "6.   Raise Custom Exceptions. ...\n",
        "7.   Define Your Own Exception Hierarchy. ...\n",
        "8.   Document All Exceptions Thrown by a Function.\n",
        "\n"
      ],
      "metadata": {
        "id": "Iy7c19QwdenU"
      }
    }
  ]
}