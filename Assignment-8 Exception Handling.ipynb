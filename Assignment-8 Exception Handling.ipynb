{
  "nbformat": 4,
  "nbformat_minor": 0,
  "metadata": {
    "colab": {
      "provenance": []
    },
    "kernelspec": {
      "name": "python3",
      "display_name": "Python 3"
    },
    "language_info": {
      "name": "python"
    }
  },
  "cells": [
    {
      "cell_type": "markdown",
      "source": [
        "Q1. What is an Exception in python? Write the difference between Exceptions and syntax errors."
      ],
      "metadata": {
        "id": "Ud5PQDmOZuh0"
      }
    },
    {
      "cell_type": "markdown",
      "source": [
        "\n",
        "\n",
        "```\n",
        "An exception is an event, which occurs during the execution of a program that disrupts the normal flow of the program's instructions. In general, when a Python script encounters a situation that it cannot cope with, it raises an exception. An exception is a Python object that represents an error.\n",
        "\n",
        "When a Python script raises an exception, it must either handle the exception immediately otherwise it terminates and quits.\n",
        "```\n",
        "\n"
      ],
      "metadata": {
        "id": "eYA9pFjud9AC"
      }
    },
    {
      "cell_type": "markdown",
      "source": [
        "\n",
        "\n",
        "```\n",
        "Syntax Error: Syntax errors are identified by the Python interpreter during the parsing or compilation phase of the program before it is executed. These errors are detected before the program starts running.\n",
        "Exception: Exceptions occur at runtime while the program is being executed. They are triggered by specific situations or errors encountered during the execution of the code.\n",
        "```\n",
        "\n"
      ],
      "metadata": {
        "id": "9rVWUBVFek8w"
      }
    },
    {
      "cell_type": "markdown",
      "source": [
        "Q2. What happens when an exception is not handled? Explain with an example."
      ],
      "metadata": {
        "id": "XmrXX7UfaklW"
      }
    },
    {
      "cell_type": "markdown",
      "source": [
        "\n",
        "\n",
        "```\n",
        "When an exception is not handled, the program terminates, and an error message is displayed.\n",
        "```\n",
        "\n"
      ],
      "metadata": {
        "id": "IrR2MEBrfYWA"
      }
    },
    {
      "cell_type": "code",
      "source": [
        "def divide(a, b):\n",
        "    return a / b\n",
        "\n",
        "try:\n",
        "    result = divide(5, 0)\n",
        "    print(\"Result:\", result)\n",
        "except ZeroDivisionError:\n",
        "    print(\"Zero can not be in a denominator\")"
      ],
      "metadata": {
        "colab": {
          "base_uri": "https://localhost:8080/"
        },
        "id": "nSSqWIgWfnFL",
        "outputId": "e4aa4155-1b0b-45d8-a6ed-c64e7fcc62e6"
      },
      "execution_count": 6,
      "outputs": [
        {
          "output_type": "stream",
          "name": "stdout",
          "text": [
            "ValueError:\n"
          ]
        }
      ]
    },
    {
      "cell_type": "markdown",
      "source": [
        "Q3. Which Python statements are used to catch and handle exceptions? Explain with an example."
      ],
      "metadata": {
        "id": "vDOIjd86bDDZ"
      }
    },
    {
      "cell_type": "code",
      "source": [
        "# Try and except statements are used to catch and handle exceptions in Python.\n",
        "x = 5\n",
        "y = \"hello\"\n",
        "try:\n",
        "    z = x + y\n",
        "except TypeError:\n",
        "    print(\"Error: cannot add an int and a str\")"
      ],
      "metadata": {
        "colab": {
          "base_uri": "https://localhost:8080/"
        },
        "id": "hCcBYuNfgeT_",
        "outputId": "ed7ae26e-e0a9-45fd-f489-76ee36acdf8f"
      },
      "execution_count": 4,
      "outputs": [
        {
          "output_type": "stream",
          "name": "stdout",
          "text": [
            "Error: cannot add an int and a str\n"
          ]
        }
      ]
    },
    {
      "cell_type": "markdown",
      "source": [
        "Q4. Explain with an example:\n",
        "\n",
        "\n",
        "1.   try and else\n",
        "2.   finally\n",
        "3.   raise"
      ],
      "metadata": {
        "id": "BMRM-nGbbfAg"
      }
    },
    {
      "cell_type": "markdown",
      "source": [
        "\n",
        "\n",
        "```\n",
        "You can use the else keyword to define a block of code to be executed if no errors were raised:\n",
        "```\n",
        "\n"
      ],
      "metadata": {
        "id": "SosKgVBzhKpf"
      }
    },
    {
      "cell_type": "code",
      "source": [
        "try:\n",
        "  print(\"Hello\")\n",
        "except:\n",
        "  print(\"Something went wrong\")\n",
        "else:\n",
        "  print(\"Nothing went wrong\")"
      ],
      "metadata": {
        "colab": {
          "base_uri": "https://localhost:8080/"
        },
        "id": "XL7fQoVjhdRz",
        "outputId": "f2404931-4d4e-449d-9b3b-31a5904dc1f7"
      },
      "execution_count": 7,
      "outputs": [
        {
          "output_type": "stream",
          "name": "stdout",
          "text": [
            "Hello\n",
            "Nothing went wrong\n"
          ]
        }
      ]
    },
    {
      "cell_type": "markdown",
      "source": [
        "\n",
        "\n",
        "```\n",
        "The finally block, if specified, will be executed regardless if the try block raises an error or not.\n",
        "```\n",
        "\n"
      ],
      "metadata": {
        "id": "79htHwbQhYr1"
      }
    },
    {
      "cell_type": "code",
      "source": [
        "try:\n",
        "  print(x)\n",
        "except:\n",
        "  print(\"Something went wrong\")\n",
        "finally:\n",
        "  print(\"The 'try except' is finished\")"
      ],
      "metadata": {
        "colab": {
          "base_uri": "https://localhost:8080/"
        },
        "id": "-eP-lR4EhmSW",
        "outputId": "4ad7a7f2-ddef-4e1f-8b21-11087243ea4e"
      },
      "execution_count": 8,
      "outputs": [
        {
          "output_type": "stream",
          "name": "stdout",
          "text": [
            "5\n",
            "The 'try except' is finished\n"
          ]
        }
      ]
    },
    {
      "cell_type": "markdown",
      "source": [
        "\n",
        "\n",
        "```\n",
        "The raise keyword is used to raise an exception.\n",
        "\n",
        "You can define what kind of error to raise, and the text to print to the user.\n",
        "```\n",
        "\n"
      ],
      "metadata": {
        "id": "6cSBG6dSh5UN"
      }
    },
    {
      "cell_type": "code",
      "source": [
        "x = -1\n",
        "\n",
        "if x < 0:\n",
        "  raise Exception(\"Sorry, no numbers below zero\")"
      ],
      "metadata": {
        "colab": {
          "base_uri": "https://localhost:8080/",
          "height": 200
        },
        "id": "q7i9jdr7h7oz",
        "outputId": "498b73d9-823a-433b-adbd-61b9aa097a95"
      },
      "execution_count": 9,
      "outputs": [
        {
          "output_type": "error",
          "ename": "Exception",
          "evalue": "ignored",
          "traceback": [
            "\u001b[0;31m---------------------------------------------------------------------------\u001b[0m",
            "\u001b[0;31mException\u001b[0m                                 Traceback (most recent call last)",
            "\u001b[0;32m<ipython-input-9-2edc57024fbc>\u001b[0m in \u001b[0;36m<cell line: 3>\u001b[0;34m()\u001b[0m\n\u001b[1;32m      2\u001b[0m \u001b[0;34m\u001b[0m\u001b[0m\n\u001b[1;32m      3\u001b[0m \u001b[0;32mif\u001b[0m \u001b[0mx\u001b[0m \u001b[0;34m<\u001b[0m \u001b[0;36m0\u001b[0m\u001b[0;34m:\u001b[0m\u001b[0;34m\u001b[0m\u001b[0;34m\u001b[0m\u001b[0m\n\u001b[0;32m----> 4\u001b[0;31m   \u001b[0;32mraise\u001b[0m \u001b[0mException\u001b[0m\u001b[0;34m(\u001b[0m\u001b[0;34m\"Sorry, no numbers below zero\"\u001b[0m\u001b[0;34m)\u001b[0m\u001b[0;34m\u001b[0m\u001b[0;34m\u001b[0m\u001b[0m\n\u001b[0m",
            "\u001b[0;31mException\u001b[0m: Sorry, no numbers below zero"
          ]
        }
      ]
    },
    {
      "cell_type": "markdown",
      "source": [
        "Q5. What are Custom Exceptions in python? Why do we need Custom Exceptions? Explain with an example."
      ],
      "metadata": {
        "id": "Oi9JxYhOb0x-"
      }
    },
    {
      "cell_type": "markdown",
      "source": [
        "\n",
        "\n",
        "```\n",
        "In Python, we can define custom exceptions by creating a new class that is derived from the built-in Exception class.\n",
        "Custom exceptions provide a way to handle specific error conditions or exceptional cases in a program.\n",
        "\n",
        "\n",
        "```\n",
        "\n"
      ],
      "metadata": {
        "id": "O_xb9RJhjEuI"
      }
    },
    {
      "cell_type": "code",
      "source": [
        "class CustomError(Exception):\n",
        "    ...\n",
        "    pass\n",
        "\n",
        "try:\n",
        "   ...\n",
        "\n",
        "except CustomError:\n",
        "    ..."
      ],
      "metadata": {
        "id": "6aLyihvRkvpj"
      },
      "execution_count": 12,
      "outputs": []
    },
    {
      "cell_type": "markdown",
      "source": [
        "Q6. Create custom exception class. Use this class to handle an exception."
      ],
      "metadata": {
        "id": "7Ph3BibMcR_3"
      }
    },
    {
      "cell_type": "code",
      "source": [
        "# define Python user-defined exceptions\n",
        "class InvalidAgeException(Exception):\n",
        "    \"Raised when the input value is less than 18\"\n",
        "    pass\n",
        "\n",
        "# you need to guess this number\n",
        "number = 18\n",
        "\n",
        "try:\n",
        "    input_num = int(input(\"Enter a number: \"))\n",
        "    if input_num < number:\n",
        "        raise InvalidAgeException\n",
        "    else:\n",
        "        print(\"Eligible to Vote\")\n",
        "\n",
        "except InvalidAgeException:\n",
        "    print(\"Exception occurred: Invalid Age\")"
      ],
      "metadata": {
        "id": "tixCs7Clcl__",

        "colab": {
          "base_uri": "https://localhost:8080/"
        },
        "outputId": "8bf511da-5752-4d77-aa4b-c0a585b15c19"
      },
      "execution_count": 11,
      "outputs": [
        {
          "output_type": "stream",
          "name": "stdout",
          "text": [
            "Enter a number: 15\n",
            "Exception occurred: Invalid Age\n"
          ]
        }
      ]
    }
  ]
}
